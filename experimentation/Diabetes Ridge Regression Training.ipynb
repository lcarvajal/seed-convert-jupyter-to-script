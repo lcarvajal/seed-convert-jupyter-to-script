{
 "cells": [
  {
   "cell_type": "markdown",
   "metadata": {},
   "source": [
    "# Train a Ridge Regression Model on the Diabetes Dataset"
   ]
  },
  {
   "cell_type": "markdown",
   "metadata": {},
   "source": [
    "This notebook loads the Diabetes dataset from sklearn, splits the data into training and validation sets, trains a Ridge regression model, validates the model on the validation set, and saves the model."
   ]
  },
  {
   "cell_type": "code",
   "execution_count": 6,
   "metadata": {},
   "outputs": [],
   "source": [
    "from sklearn.datasets import load_diabetes\n",
    "from sklearn.linear_model import Ridge\n",
    "from sklearn.metrics import mean_squared_error\n",
    "from sklearn.model_selection import train_test_split\n",
    "import joblib\n",
    "import pandas as pd\n",
    "\n",
    "def split_data(df):\n",
    "    X = df.drop('Y', axis=1).values\n",
    "    y = df['Y'].values\n",
    "\n",
    "    X_train, X_test, y_train, y_test = train_test_split(\n",
    "        X, y, test_size=0.2, random_state=0)\n",
    "    data = {\"train\": {\"X\": X_train, \"y\": y_train},\n",
    "            \"test\": {\"X\": X_test, \"y\": y_test}}\n",
    "    return data\n",
    "\n",
    "def train_model(data, args):\n",
    "    reg_model = Ridge(**args)\n",
    "    reg_model.fit(data[\"train\"][\"X\"], data[\"train\"][\"y\"])\n",
    "    return reg_model\n",
    "\n",
    "def get_model_metrics(reg_model, data):\n",
    "    preds = reg_model.predict(data[\"test\"][\"X\"])\n",
    "    mse = mean_squared_error(preds, data[\"test\"][\"y\"])\n",
    "    metrics = {\"mse\": mse}\n",
    "\n",
    "    return metrics\n",
    "\n",
    "def main():\n",
    "    sample_data = load_diabetes()\n",
    "\n",
    "    df = pd.DataFrame(\n",
    "        data=sample_data.data,\n",
    "        columns=sample_data.feature_names)\n",
    "    df['Y'] = sample_data.target\n",
    "\n",
    "    data = split_data(df)\n",
    "\n",
    "    # experiment parameters\n",
    "    args = {\n",
    "        \"alpha\": 0.5\n",
    "    }\n",
    "    reg = train_model(data, args)\n",
    "\n",
    "    metrics = get_model_metrics(reg, data)\n",
    "\n",
    "    model_name = \"sklearn_regression_model.pkl\"\n",
    "\n",
    "    joblib.dump(value=reg, filename=model_name)\n",
    "\n",
    "main()"
   ]
  }
 ],
 "metadata": {
  "kernelspec": {
   "display_name": "Python 3",
   "language": "python",
   "name": "python3"
  },
  "language_info": {
   "codemirror_mode": {
    "name": "ipython",
    "version": 3
   },
   "file_extension": ".py",
   "mimetype": "text/x-python",
   "name": "python",
   "nbconvert_exporter": "python",
   "pygments_lexer": "ipython3",
   "version": "3.9.7"
  }
 },
 "nbformat": 4,
 "nbformat_minor": 2
}
